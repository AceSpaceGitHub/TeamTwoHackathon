{
 "cells": [
  {
   "cell_type": "markdown",
   "metadata": {},
   "source": [
    "1. Import Dependencies"
   ]
  },
  {
   "cell_type": "code",
   "execution_count": null,
   "metadata": {},
   "outputs": [],
   "source": [
    "import os\n",
    "from stable_baselines3 import PPO\n",
    "from stable_baselines3.common.evaluation import evaluate_policy\n",
    "from stable_baselines3.common.env_checker import check_env\n",
    "\n",
    "from DeterministicScenarioEnvironment import TrainingDeterministicScenarioEnvironment, DeterministicScenarioEnvironment"
   ]
  },
  {
   "cell_type": "markdown",
   "metadata": {},
   "source": [
    "# Building an Environment"
   ]
  },
  {
   "cell_type": "markdown",
   "metadata": {},
   "source": [
    "Check Training Environment"
   ]
  },
  {
   "cell_type": "code",
   "execution_count": null,
   "metadata": {},
   "outputs": [],
   "source": [
    "trainingEnv=TrainingDeterministicScenarioEnvironment()\n",
    "check_env(trainingEnv, warn=True)"
   ]
  },
  {
   "cell_type": "markdown",
   "metadata": {},
   "source": [
    "Check Scenario Environment"
   ]
  },
  {
   "cell_type": "markdown",
   "metadata": {},
   "source": [
    "# Train Model"
   ]
  },
  {
   "cell_type": "code",
   "execution_count": null,
   "metadata": {},
   "outputs": [],
   "source": [
    "log_path = os.path.join('Training', 'Logs')"
   ]
  },
  {
   "cell_type": "code",
   "execution_count": null,
   "metadata": {},
   "outputs": [],
   "source": [
    "#trainingEnv=TrainingDeterministicScenarioEnvironment()\n",
    "trainingEnv=DeterministicScenarioEnvironment(13, 19, 21, 4, 2, 2, 2, 0, 0)\n",
    "check_env(trainingEnv, warn=True)\n",
    "trainingEnv.reset()\n",
    "model = PPO(\"MultiInputPolicy\", trainingEnv, verbose=1, tensorboard_log=log_path)\n",
    "\n",
    "# 30ish minute training\n",
    "model.learn(total_timesteps=300000)\n",
    "\n",
    "#model.learn(total_timesteps=5000000)\n",
    "\n",
    "model.save('DeterministicTraining')"
   ]
  },
  {
   "cell_type": "markdown",
   "metadata": {},
   "source": [
    "# Save Model"
   ]
  },
  {
   "cell_type": "markdown",
   "metadata": {},
   "source": [
    "# Evaluate Model"
   ]
  },
  {
   "cell_type": "code",
   "execution_count": null,
   "metadata": {},
   "outputs": [],
   "source": [
    "scenarioEnv = DeterministicScenarioEnvironment(13, 19, 21, 4, 2, 2, 2, 0, 0)\n",
    "sampleEnvObs = scenarioEnv.reset()\n",
    "done = False\n",
    "score = 0 \n",
    "\n",
    "while not done:\n",
    "    action, _ = model.predict(sampleEnvObs)\n",
    "    sampleEnvObs, reward, done, info = scenarioEnv.step(action)\n",
    "    score+=reward\n",
    "    print('Score:{} Action:{} State:{}'.format(score, action, [sampleEnvObs[\"missiles\"],sampleEnvObs[\"expectedShipDamage\"], sampleEnvObs[\"currentShipDamage\"], sampleEnvObs[\"assets\"]]))\n",
    "scenarioEnv.close()"
   ]
  }
 ],
 "metadata": {
  "interpreter": {
   "hash": "2db524e06e9f5f4ffedc911c917cb75e12dbc923643829bf417064a77eb14d37"
  },
  "kernelspec": {
   "display_name": "Python 3.8.10 64-bit",
   "name": "python3"
  },
  "language_info": {
   "codemirror_mode": {
    "name": "ipython",
    "version": 3
   },
   "file_extension": ".py",
   "mimetype": "text/x-python",
   "name": "python",
   "nbconvert_exporter": "python",
   "pygments_lexer": "ipython3",
   "version": "3.8.10"
  }
 },
 "nbformat": 4,
 "nbformat_minor": 2
}
