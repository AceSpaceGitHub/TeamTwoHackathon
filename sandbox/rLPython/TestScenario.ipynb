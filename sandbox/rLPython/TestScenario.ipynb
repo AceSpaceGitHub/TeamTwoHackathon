{
 "cells": [
  {
   "cell_type": "code",
   "execution_count": 1,
   "metadata": {},
   "outputs": [],
   "source": [
    "from simulate import simulate;"
   ]
  },
  {
   "cell_type": "code",
   "execution_count": 6,
   "metadata": {},
   "outputs": [
    {
     "name": "stdout",
     "output_type": "stream",
     "text": [
      "{'Results': [{'SuccessRate': 56.99999999999999, 'TargetRates': [230, 103, 12, 85, 0, 0], 'Actions': [{'Actions': [5, 4, 1, 1], 'Missiles': 12, 'ExpectedHits': [4, 2, 2, 2, 0, 0], 'CurrentHits': [0, 0, 0, 0, 2, 2], 'Assets': [18, 20]}, {'Actions': [3, 1, 1, 1], 'Missiles': 8, 'ExpectedHits': [4, 2, 2, 2, 0, 0], 'CurrentHits': [0, 2, 0, 2, 2, 2], 'Assets': [18, 20]}, {'Actions': [0, 2, 1, 1], 'Missiles': 4, 'ExpectedHits': [4, 2, 2, 2, 0, 0], 'CurrentHits': [2, 2, 2, 2, 2, 2], 'Assets': [17, 19]}, {'Actions': [0, 2, 1, 1], 'Missiles': 0, 'ExpectedHits': [4, 2, 2, 2, 0, 0], 'CurrentHits': [4, 2, 4, 2, 2, 2], 'Assets': [16, 18]}]}]}\n"
     ]
    }
   ],
   "source": [
    "result = simulate(16, 19, 21, 2, 1, 1, 1, 0, 0, 2)\n",
    "print(result)"
   ]
  }
 ],
 "metadata": {
  "interpreter": {
   "hash": "2db524e06e9f5f4ffedc911c917cb75e12dbc923643829bf417064a77eb14d37"
  },
  "kernelspec": {
   "display_name": "Python 3.8.10 64-bit",
   "name": "python3"
  },
  "language_info": {
   "codemirror_mode": {
    "name": "ipython",
    "version": 3
   },
   "file_extension": ".py",
   "mimetype": "text/x-python",
   "name": "python",
   "nbconvert_exporter": "python",
   "pygments_lexer": "ipython3",
   "version": "3.8.10"
  },
  "orig_nbformat": 4
 },
 "nbformat": 4,
 "nbformat_minor": 2
}
