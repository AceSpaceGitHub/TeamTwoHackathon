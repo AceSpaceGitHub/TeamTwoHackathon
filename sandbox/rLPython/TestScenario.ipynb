{
 "cells": [
  {
   "cell_type": "code",
   "execution_count": 1,
   "metadata": {},
   "outputs": [],
   "source": [
    "from simulate import simulate;"
   ]
  },
  {
   "cell_type": "code",
   "execution_count": 21,
   "metadata": {},
   "outputs": [
    {
     "name": "stdout",
     "output_type": "stream",
     "text": [
      "{'Results': [{'SuccessRate': 73.8, 'TargetRates': [79.4, 97.6, 98.1, 97.0, 100.0, 100.0], 'Actions': [{'Actions': [3, 4, 1, 1], 'Missiles': 24, 'ExpectedHits': [6, 3, 3, 3, 0, 0], 'CurrentHits': [0, 0, 0, 0, 0, 0], 'Assets': [19, 21]}, {'Actions': [5, 4, 1, 1], 'Missiles': 20, 'ExpectedHits': [6, 3, 3, 3, 0, 0], 'CurrentHits': [0, 0, 0, 0, 2, 2], 'Assets': [17, 19]}, {'Actions': [3, 1, 1, 1], 'Missiles': 16, 'ExpectedHits': [6, 3, 3, 3, 0, 0], 'CurrentHits': [0, 2, 0, 2, 2, 2], 'Assets': [17, 19]}, {'Actions': [0, 2, 1, 1], 'Missiles': 12, 'ExpectedHits': [6, 3, 3, 3, 0, 0], 'CurrentHits': [2, 2, 2, 2, 2, 2], 'Assets': [16, 18]}, {'Actions': [3, 1, 1, 1], 'Missiles': 8, 'ExpectedHits': [6, 3, 3, 3, 0, 0], 'CurrentHits': [2, 4, 2, 4, 2, 2], 'Assets': [15, 17]}, {'Actions': [0, 2, 1, 1], 'Missiles': 4, 'ExpectedHits': [6, 3, 3, 3, 0, 0], 'CurrentHits': [4, 4, 4, 4, 2, 2], 'Assets': [14, 16]}, {'Actions': [3, 4, 1, 1], 'Missiles': 4, 'ExpectedHits': [6, 3, 3, 3, 0, 0], 'CurrentHits': [4, 4, 4, 4, 2, 2], 'Assets': [14, 16]}, {'Actions': [5, 4, 1, 1], 'Missiles': 0, 'ExpectedHits': [6, 3, 3, 3, 0, 0], 'CurrentHits': [4, 4, 4, 4, 4, 4], 'Assets': [13, 15]}]}]}\n"
     ]
    }
   ],
   "source": [
    "result = simulate(24, 19, 21, 2, 1, 1, 1, 0, 0, 3)\n",
    "print(result)"
   ]
  }
 ],
 "metadata": {
  "interpreter": {
   "hash": "2db524e06e9f5f4ffedc911c917cb75e12dbc923643829bf417064a77eb14d37"
  },
  "kernelspec": {
   "display_name": "Python 3.8.10 64-bit",
   "name": "python3"
  },
  "language_info": {
   "codemirror_mode": {
    "name": "ipython",
    "version": 3
   },
   "file_extension": ".py",
   "mimetype": "text/x-python",
   "name": "python",
   "nbconvert_exporter": "python",
   "pygments_lexer": "ipython3",
   "version": "3.8.10"
  },
  "orig_nbformat": 4
 },
 "nbformat": 4,
 "nbformat_minor": 2
}
