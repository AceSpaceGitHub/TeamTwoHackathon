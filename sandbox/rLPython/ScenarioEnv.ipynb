{
 "cells": [
  {
   "cell_type": "markdown",
   "metadata": {},
   "source": [
    "# 1. Import Dependencies"
   ]
  },
  {
   "cell_type": "code",
   "execution_count": null,
   "metadata": {},
   "outputs": [],
   "source": [
    "!pip install gym\n",
    "!pip install stable_baselines3[extra]"
   ]
  },
  {
   "cell_type": "code",
   "execution_count": null,
   "metadata": {},
   "outputs": [],
   "source": [
    "import gym\n",
    "from gym import Env\n",
    "from gym.spaces import Discrete, Box, Dict, Tuple, MultiBinary, MultiDiscrete \n",
    "import numpy as np\n",
    "import random\n",
    "import os\n",
    "from stable_baselines3 import PPO\n",
    "from stable_baselines3.common.vec_env import VecFrameStack\n",
    "from stable_baselines3.common.evaluation import evaluate_policy"
   ]
  },
  {
   "cell_type": "markdown",
   "metadata": {},
   "source": [
    "# 2. Types of Spaces"
   ]
  },
  {
   "cell_type": "markdown",
   "metadata": {},
   "source": [
    "# 3. Building an Environment"
   ]
  },
  {
   "cell_type": "code",
   "execution_count": null,
   "metadata": {},
   "outputs": [],
   "source": [
    "class ScenarioStepper:\n",
    "    def step(self, state, action):\n",
    "        done = False\n",
    "        numberOfTargets = 6\n",
    "        targetsOffset = 1\n",
    "        # Apply action\n",
    "        if action == 0:\n",
    "            reward = 0\n",
    "        elif action > 0 and action <= numberOfTargets:\n",
    "            target = action - 1\n",
    "            reward = 1\n",
    "            expectedDamageIndex = targetsOffset + (target)\n",
    "            currentDamageIndex = targetsOffset + (target + numberOfTargets)\n",
    "            state[currentDamageIndex] += 1\n",
    "            if state[currentDamageIndex] > state[expectedDamageIndex]:\n",
    "                reward = -5\n",
    "        else:\n",
    "            reward = 0\n",
    "        \n",
    "        shouldReward = True\n",
    "        for myTarget in range(1, numberOfTargets+1):\n",
    "            expectedDamageIndex = myTarget\n",
    "            currentDamageIndex = myTarget + numberOfTargets\n",
    "            if state[currentDamageIndex] != state[expectedDamageIndex]:\n",
    "                shouldReward = False\n",
    "                break\n",
    "        \n",
    "        if shouldReward:\n",
    "            reward = 100\n",
    "            done = True\n",
    "\n",
    "        # Reduce shower length by 1 second\n",
    "        state[0] -= 1\n",
    "\n",
    "        # Check if shower is done\n",
    "        if state[0] <= 0:\n",
    "            done = True\n",
    "\n",
    "        # Set placeholder for info\n",
    "        info = {}\n",
    "\n",
    "        # Return step information\n",
    "        return state, reward, done, info\n",
    "\n",
    "class ScenarioEnv(Env):\n",
    "    def __init__(self, numberOfMissles, tD1, tD2, tD3, tD4, tD5, tD6):\n",
    "        # Actions we can take: 0 - Do Nothing, 1 - Launch\n",
    "        self.action_space = Discrete(7)\n",
    "        # Target Damage state array: 0 - Untouched, 1 - Disabled, 2 - Destroyed\n",
    "        self.observation_space = MultiDiscrete([100, 3, 3, 3, 3, 3, 3, 14, 14, 14, 14, 14, 14])\n",
    "        # store initial state\n",
    "        self.numberOfMissles = numberOfMissles\n",
    "        self.tD1 = tD1\n",
    "        self.tD2 = tD2\n",
    "        self.tD3 = tD3\n",
    "        self.tD4 = tD4\n",
    "        self.tD5 = tD5\n",
    "        self.tD6 = tD6\n",
    "        # Set start state\n",
    "        self.state = np.array([self.numberOfMissles, self.tD1, self.tD2, self.tD3, self.tD4, self.tD5, self.tD6, 0, 0, 0 ,0 ,0 ,0])\n",
    "        self.stepper = ScenarioStepper()\n",
    "\n",
    "    def step(self, action):\n",
    "        # Return step information\n",
    "        return self.stepper.step(self.state, action)\n",
    "\n",
    "    def render(self):\n",
    "        # Implement viz\n",
    "        pass\n",
    "\n",
    "    def reset(self):\n",
    "        # Reset shower temperature\n",
    "        self.state = np.array([self.numberOfMissles, self.tD1, self.tD2, self.tD3, self.tD4, self.tD5, self.tD6, 0, 0, 0 ,0 ,0 ,0])\n",
    "        return self.state\n",
    "\n",
    "class TrainingScenarioEnv(Env):\n",
    "    def __init__(self):\n",
    "        # Actions we can take: 0 - Do Nothing, 1 - Launch\n",
    "        self.action_space = Discrete(7)\n",
    "        # Target Damage state array: 0 - Untouched, 1 - Disabled, 2 - Destroyed\n",
    "        self.observation_space = MultiDiscrete([100, 3, 3, 3, 3, 3, 3, 14, 14, 14, 14, 14, 14])\n",
    "        # Set start state\n",
    "        self.state = np.array([random.randint(1, 15), random.randint(0, 2), random.randint(0, 2), random.randint(0, 2), random.randint(0, 2), random.randint(0, 2), random.randint(0, 2), 0, 0, 0 ,0 ,0 ,0])\n",
    "        self.stepper = ScenarioStepper()\n",
    "\n",
    "    def step(self, action):\n",
    "        # Return step information\n",
    "        return self.stepper.step(self.state, action)\n",
    "\n",
    "    def render(self):\n",
    "        # Implement viz\n",
    "        pass\n",
    "\n",
    "    def reset(self):\n",
    "        # Reset shower temperature\n",
    "        self.state = np.array([random.randint(1, 15), random.randint(0, 2), random.randint(0, 2), random.randint(0, 2), random.randint(0, 2), random.randint(0, 2), random.randint(0, 2), 0, 0, 0 ,0 ,0 ,0])\n",
    "        return self.state\n"
   ]
  },
  {
   "cell_type": "code",
   "execution_count": null,
   "metadata": {},
   "outputs": [],
   "source": [
    "env=TrainingScenarioEnv()"
   ]
  },
  {
   "cell_type": "code",
   "execution_count": null,
   "metadata": {},
   "outputs": [],
   "source": [
    "env.observation_space\n",
    "env.observation_space.contains(env.reset())\n",
    "env.step(5)"
   ]
  },
  {
   "cell_type": "code",
   "execution_count": null,
   "metadata": {},
   "outputs": [],
   "source": [
    "env.reset()"
   ]
  },
  {
   "cell_type": "code",
   "execution_count": null,
   "metadata": {},
   "outputs": [],
   "source": [
    "from stable_baselines3.common.env_checker import check_env"
   ]
  },
  {
   "cell_type": "code",
   "execution_count": null,
   "metadata": {},
   "outputs": [],
   "source": [
    "check_env(env, warn=True)"
   ]
  },
  {
   "cell_type": "markdown",
   "metadata": {},
   "source": [
    "# 4. Test Environment"
   ]
  },
  {
   "cell_type": "code",
   "execution_count": null,
   "metadata": {},
   "outputs": [],
   "source": [
    "episodes = 5\n",
    "for episode in range(1, episodes+1):\n",
    "    state = env.reset()\n",
    "    done = False\n",
    "    score = 0 \n",
    "    \n",
    "    while not done:\n",
    "        env.render()\n",
    "        action = env.action_space.sample()\n",
    "        n_state, reward, done, info = env.step(action)\n",
    "        score+=reward\n",
    "    print('Episode:{} Score:{}'.format(episode, score))\n",
    "env.close()"
   ]
  },
  {
   "cell_type": "code",
   "execution_count": null,
   "metadata": {},
   "outputs": [],
   "source": [
    "env.close()"
   ]
  },
  {
   "cell_type": "markdown",
   "metadata": {},
   "source": [
    "# 5. Train Model"
   ]
  },
  {
   "cell_type": "code",
   "execution_count": null,
   "metadata": {},
   "outputs": [],
   "source": [
    "log_path = os.path.join('Training', 'Logs')"
   ]
  },
  {
   "cell_type": "code",
   "execution_count": null,
   "metadata": {},
   "outputs": [],
   "source": [
    "model = PPO(\"MlpPolicy\", env, verbose=1, tensorboard_log=log_path)"
   ]
  },
  {
   "cell_type": "code",
   "execution_count": null,
   "metadata": {
    "scrolled": true
   },
   "outputs": [],
   "source": [
    "model.learn(total_timesteps=100000)"
   ]
  },
  {
   "cell_type": "markdown",
   "metadata": {},
   "source": [
    "# 6. Save Model"
   ]
  },
  {
   "cell_type": "code",
   "execution_count": null,
   "metadata": {},
   "outputs": [],
   "source": [
    "model.save('PPO')"
   ]
  },
  {
   "cell_type": "code",
   "execution_count": null,
   "metadata": {},
   "outputs": [],
   "source": [
    "evaluate_policy(model, env, n_eval_episodes=1000, render=False)"
   ]
  },
  {
   "cell_type": "code",
   "execution_count": null,
   "metadata": {},
   "outputs": [],
   "source": [
    "randomSampleEnv = TrainingScenarioEnv()\n",
    "randomSampleEnvObs = randomSampleEnv.reset()\n",
    "done = False\n",
    "score = 0 \n",
    "\n",
    "while not done:\n",
    "    action, _ = model.predict(randomSampleEnvObs)\n",
    "    randomSampleEnvObs, reward, done, info = randomSampleEnv.step(action)\n",
    "    score+=reward\n",
    "    print('Episode:{} Score:{} Action:{} State:{}'.format(episode, score, action, randomSampleEnvObs))\n",
    "randomSampleEnv.close()"
   ]
  },
  {
   "cell_type": "code",
   "execution_count": null,
   "metadata": {},
   "outputs": [],
   "source": [
    "sampleEnv = ScenarioEnv(14, 2, 1, 1, 1, 0, 0)\n",
    "sampleEnvObs = sampleEnv.reset()\n",
    "done = False\n",
    "score = 0 \n",
    "\n",
    "while not done:\n",
    "    action, _ = model.predict(sampleEnvObs)\n",
    "    sampleEnvObs, reward, done, info = sampleEnv.step(action)\n",
    "    score+=reward\n",
    "    print('Episode:{} Score:{} Action:{} State:{}'.format(episode, score, action, sampleEnvObs))\n",
    "sampleEnv.close()"
   ]
  }
 ],
 "metadata": {
  "interpreter": {
   "hash": "2db524e06e9f5f4ffedc911c917cb75e12dbc923643829bf417064a77eb14d37"
  },
  "kernelspec": {
   "display_name": "Python 3.8.10 64-bit",
   "name": "python3"
  },
  "language_info": {
   "codemirror_mode": {
    "name": "ipython",
    "version": 3
   },
   "file_extension": ".py",
   "mimetype": "text/x-python",
   "name": "python",
   "nbconvert_exporter": "python",
   "pygments_lexer": "ipython3",
   "version": "3.8.10"
  }
 },
 "nbformat": 4,
 "nbformat_minor": 2
}
