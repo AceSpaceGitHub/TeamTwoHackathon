{
 "cells": [
  {
   "cell_type": "markdown",
   "metadata": {},
   "source": [
    "1. Import Dependencies"
   ]
  },
  {
   "cell_type": "code",
   "execution_count": null,
   "metadata": {},
   "outputs": [],
   "source": [
    "!pip install gym\n",
    "!pip install stable_baselines3"
   ]
  },
  {
   "cell_type": "code",
   "execution_count": null,
   "metadata": {},
   "outputs": [],
   "source": [
    "import gym\n",
    "from gym import Env\n",
    "from gym.spaces import Discrete, Dict, MultiBinary, MultiDiscrete, Box\n",
    "import numpy as np\n",
    "import random\n",
    "import os\n",
    "from stable_baselines3 import PPO\n",
    "from stable_baselines3.common.evaluation import evaluate_policy\n",
    "from stable_baselines3.common.env_checker import check_env"
   ]
  },
  {
   "cell_type": "markdown",
   "metadata": {},
   "source": [
    "# Building an Environment"
   ]
  },
  {
   "cell_type": "code",
   "execution_count": null,
   "metadata": {},
   "outputs": [],
   "source": [
    "class ScenarioManager:\n",
    "    def getActionSpace(self):\n",
    "        return MultiDiscrete([6, 6, 2, 2])\n",
    "    def getObservationSpace(self):\n",
    "        return Dict({\"missiles\": Discrete(100), \n",
    "        \"expectedShipDamage\": MultiDiscrete([3,3,3,3,3,3]), \n",
    "        \"currentShipDamage\": MultiDiscrete([3,3,3,3,3,3]), \n",
    "        \"target1Defense\": MultiDiscrete([100,100,100,100,100,100]),\n",
    "        \"target2Defense\": MultiDiscrete([100,100,100,100,100,100]),\n",
    "        \"target3Defense\": MultiDiscrete([100,100,100,100,100,100]),\n",
    "        \"target4Defense\": MultiDiscrete([100,100,100,100,100,100]),\n",
    "        \"target5Defense\": MultiDiscrete([100,100,100,100,100,100]),\n",
    "        \"target6Defense\": MultiDiscrete([100,100,100,100,100,100]),\n",
    "        \"target1Targets\": MultiBinary(6),\n",
    "        \"target2Targets\": MultiBinary(6),\n",
    "        \"target3Targets\": MultiBinary(6),\n",
    "        \"target4Targets\": MultiBinary(6),\n",
    "        \"target5Targets\": MultiBinary(6),\n",
    "        \"target6Targets\": MultiBinary(6),\n",
    "        \"assets\": MultiDiscrete([100,100])})\n",
    "    def getRandomizedState(self):\n",
    "        return {\"missiles\": random.randint(1, 99),\n",
    "         \"expectedShipDamage\": \n",
    "         np.array([random.randint(0, 2), \n",
    "         random.randint(0, 2), \n",
    "         random.randint(0, 2), \n",
    "         random.randint(0, 2), \n",
    "         random.randint(0, 2), \n",
    "         random.randint(0, 2)]), \n",
    "         \"currentShipDamage\": np.array([0,0,0,0,0,0]),\n",
    "         \"target1Defense\": np.array([0,0,25,0,15,0]),\n",
    "         \"target2Defense\": np.array([0,0,0,25,0,15]),\n",
    "         \"target3Defense\": np.array([0,0,30,0,0,0]),\n",
    "         \"target4Defense\": np.array([0,0,0,30,0,0]),\n",
    "         \"target5Defense\": np.array([0,0,0,0,40,0]),\n",
    "         \"target6Defense\": np.array([0,0,0,0,0,40]),\n",
    "         \"target1Targets\": np.array([1, 0, 1, 0 , 0, 0]),\n",
    "         \"target2Targets\": np.array([0, 1, 0, 1 , 0, 0]),\n",
    "         \"target3Targets\": np.array([1, 0, 1, 0 , 0, 0]),\n",
    "         \"target4Targets\": np.array([0, 1, 0, 1 , 0, 0]),\n",
    "         \"target5Targets\": np.array([0, 0, 0, 0 , 1, 1]),\n",
    "         \"target6Targets\": np.array([0, 0, 0, 0 , 1, 1]),\n",
    "        #  \"target1Targets\": np.array([1, random.randint(0,1), random.randint(0,1), random.randint(0,1), random.randint(0,1), random.randint(0,1)]),\n",
    "        #  \"target2Targets\": np.array([random.randint(0,1), 1, random.randint(0,1), random.randint(0,1), random.randint(0,1), random.randint(0,1)]),\n",
    "        #  \"target3Targets\": np.array([random.randint(0,1), random.randint(0,1), 1, random.randint(0,1), random.randint(0,1), random.randint(0,1)]),\n",
    "        #  \"target4Targets\": np.array([random.randint(0,1), random.randint(0,1), random.randint(0,1), 1, random.randint(0,1), random.randint(0,1)]),\n",
    "        #  \"target5Targets\": np.array([random.randint(0,1), random.randint(0,1), random.randint(0,1), random.randint(0,1) , 1, random.randint(0,1)]),\n",
    "        #  \"target6Targets\": np.array([random.randint(0,1), random.randint(0,1), random.randint(0,1), random.randint(0,1) , random.randint(0,1), 1]),\n",
    "         \"assets\": np.array([random.randint(1, 99), random.randint(1, 99)])}\n",
    "    def getState(self, numberOfmissiles, numberOfJets, numberOfPilots, tD1, tD2, tD3, tD4, tD5, tD6):\n",
    "        return {\"missiles\": numberOfmissiles,\n",
    "         \"expectedShipDamage\": np.array([tD1, tD2, tD3, tD4, tD5, tD6]), \n",
    "         \"currentShipDamage\": np.array([0,0,0,0,0,0]),\n",
    "         \"target1Defense\": np.array([0,0,25,0,15,0]),\n",
    "         \"target2Defense\": np.array([0,0,0,25,0,15]),\n",
    "         \"target3Defense\": np.array([0,0,30,0,0,0]),\n",
    "         \"target4Defense\": np.array([0,0,0,30,0,0]),\n",
    "         \"target5Defense\": np.array([0,0,0,0,40,0]),\n",
    "         \"target6Defense\": np.array([0,0,0,0,0,40]),\n",
    "         \"target1Targets\": np.array([1, 0, 1, 0 , 0, 0]),\n",
    "         \"target2Targets\": np.array([0, 1, 0, 1 , 0, 0]),\n",
    "         \"target3Targets\": np.array([1, 0, 1, 0 , 0, 0]),\n",
    "         \"target4Targets\": np.array([0, 1, 0, 1 , 0, 0]),\n",
    "         \"target5Targets\": np.array([0, 0, 0, 0 , 1, 1]),\n",
    "         \"target6Targets\": np.array([0, 0, 0, 0 , 1, 1]),\n",
    "         \"assets\": np.array([numberOfJets ,numberOfPilots])}\n",
    "    def canAttack(self, state, sortiArray, ship1, ship2):\n",
    "        canAttack = False\n",
    "        reward = -100\n",
    "        # Check if can attack\n",
    "        for sorti in sortiArray:\n",
    "            if state[sorti][ship1] and state[sorti][ship2]:\n",
    "                canAttack = True\n",
    "                reward = 2\n",
    "                break\n",
    "        return canAttack, reward\n",
    "    def shouldAttack(self, state, defenseArray, ship):\n",
    "        reward = 0\n",
    "        shouldAttack = True\n",
    "        # Check if ship is already more damaged than expected\n",
    "        if state[\"currentShipDamage\"][ship] >= state[\"expectedShipDamage\"][ship]:\n",
    "            # Check to see if target posses a threat\n",
    "            if(state[\"currentShipDamage\"][ship] == 0 and state[defenseArray[ship]][ship] > 0):\n",
    "                # Reward for damaging a ship that is a threat?\n",
    "                reward = 0\n",
    "            else:\n",
    "                # no threat and already at expected damage\n",
    "                reward = -200\n",
    "                shouldAttack = False\n",
    "        else:\n",
    "            # targetted a ship worth targetting\n",
    "            reward = 50\n",
    "        return shouldAttack, reward\n",
    "    def defendShip(self, state, defenseArray, ship):\n",
    "        shotDown = False\n",
    "        length = len(state[defenseArray[ship]])\n",
    "        for index in range(0, length):\n",
    "            if(state[defenseArray[ship]][index] > 0):\n",
    "                roll = random.randint(0,100)\n",
    "                if(roll <= state[defenseArray[ship]][index]):\n",
    "                    shotDown = True\n",
    "        return shotDown\n",
    "    def shootShip(self, state, ship, defenseArray):\n",
    "        reward = 0\n",
    "        roll = random.randint(0, 100)\n",
    "        if roll <= 60:\n",
    "            # Should we reward more here?\n",
    "            state[\"currentShipDamage\"][ship] = max(1, state[\"currentShipDamage\"][ship])\n",
    "            for index in defenseArray:\n",
    "                state[index][ship] = 0\n",
    "        \n",
    "            roll = random.randint(0, 100)\n",
    "            if roll <= 50:\n",
    "                # Should we reward more here?\n",
    "                state[\"currentShipDamage\"][ship] = max(2, state[\"currentShipDamage\"][ship])\n",
    "        \n",
    "        return reward\n",
    "    def step(self, state, action):\n",
    "        # Set placeholder for info\n",
    "        info = {}\n",
    "        reward = 0\n",
    "        done = False\n",
    "        numberOfTargets = 6\n",
    "        defenseArray = [\"target1Defense\", \"target2Defense\", \"target3Defense\", \"target4Defense\", \"target5Defense\", \"target6Defense\"]\n",
    "        sortieArray = [\"target1Targets\", \"target2Targets\", \"target3Targets\", \"target4Targets\", \"target5Targets\", \"target6Targets\"]\n",
    "\n",
    "        # Should we reward here or after hit or even after checking against expected damage?\n",
    "        ship1Index = action[0]\n",
    "        ship2Index = action[1]\n",
    "\n",
    "        canAttack , canAttackReward = self.canAttack(state, sortieArray, ship1Index, ship2Index)\n",
    "\n",
    "        if canAttack:\n",
    "            shouldAttack, shouldAttackReward1 = self.shouldAttack(state, sortieArray, ship1Index)\n",
    "            shouldAttack2, shouldAttackReward2 = self.shouldAttack(state, sortieArray, ship2Index)\n",
    "\n",
    "            shotDown1 = self.defendShip(state, defenseArray, ship1Index)\n",
    "            shotDown2 = self.defendShip(state, defenseArray, ship2Index)\n",
    "\n",
    "            if ship1Index == ship2Index:\n",
    "                if shotDown1:\n",
    "                    state[\"assets\"][0] -= 1\n",
    "                    state[\"assets\"][1] -= 1\n",
    "            else:\n",
    "                if shotDown1:\n",
    "                    state[\"assets\"][0] -= 1\n",
    "                    state[\"assets\"][1] -= 1\n",
    "                if shotDown2:\n",
    "                    state[\"assets\"][0] -= 1\n",
    "                    state[\"assets\"][1] -= 1\n",
    "\n",
    "            self.shootShip(state, ship1Index, defenseArray)\n",
    "            state[\"missiles\"] -= 1\n",
    "            if action[2] == 1:\n",
    "                self.shootShip(state, ship1Index, defenseArray)\n",
    "                state[\"missiles\"] -= 1\n",
    "            self.shootShip(state, ship2Index, defenseArray)\n",
    "            state[\"missiles\"] -= 1\n",
    "            if action[3] == 1:\n",
    "                self.shootShip(state, ship2Index, defenseArray)\n",
    "                state[\"missiles\"] -= 1\n",
    "\n",
    "            reward = canAttackReward + shouldAttackReward1 + shouldAttackReward2\n",
    "        else:\n",
    "            # Can't attack we are done\n",
    "            return state, canAttackReward, False, info\n",
    "        \n",
    "        # ############# Ideas #################\n",
    "        # Add bonus for end state for each asset, maybe more for pilots and jets\n",
    "        # Add offset rewards for pilots and jets\n",
    "        # Add a calculated ratio reward for threats in the defending arrays\n",
    "\n",
    "        # Add penatly for going over on assets\n",
    "        if state[\"missiles\"] < 0:\n",
    "            reward -= 200\n",
    "\n",
    "        if state [\"assets\"][0] < 0:\n",
    "            reward -= 200\n",
    "\n",
    "        if state [\"assets\"][1] < 0:\n",
    "            reward -= 200\n",
    "\n",
    "        isExpectedDamageMet = True\n",
    "        for shipIndex in range(0, numberOfTargets):\n",
    "            if state[\"currentShipDamage\"][shipIndex] < state[\"expectedShipDamage\"][shipIndex]:\n",
    "                isExpectedDamageMet = False\n",
    "                break\n",
    "\n",
    "        if isExpectedDamageMet:\n",
    "            reward += 300\n",
    "            done = True\n",
    "\n",
    "        if state[\"missiles\"] <= 0:\n",
    "            done = True\n",
    "\n",
    "        if state[\"assets\"][0] <= 0 or state[\"assets\"][1] <= 0:\n",
    "            done = True\n",
    "        \n",
    "        # Return step information\n",
    "        return state, reward, done, info\n",
    "\n",
    "class ScenarioEnv(Env):\n",
    "    def __init__(self, numberOfmissiles, numberOfJets, numberOfPilots, tD1, tD2, tD3, tD4, tD5, tD6):\n",
    "        manager = ScenarioManager()\n",
    "        self.manager = manager\n",
    "        # Actions we can take: 0 - Do Nothing, 1 - Launch\n",
    "        self.action_space = manager.getActionSpace()\n",
    "        # Target Damage state array: 0 - Untouched, 1 - Disabled, 2 - Destroyed\n",
    "        self.observation_space = manager.getObservationSpace()\n",
    "        # store initial state\n",
    "        self.numberOfmissiles = numberOfmissiles\n",
    "        self.numberOfJets = numberOfJets\n",
    "        self.numberOfPilots = numberOfPilots\n",
    "        self.tD1 = tD1\n",
    "        self.tD2 = tD2\n",
    "        self.tD3 = tD3\n",
    "        self.tD4 = tD4\n",
    "        self.tD5 = tD5\n",
    "        self.tD6 = tD6\n",
    "        # Set start state\n",
    "        self.state = self.manager.getState(self.numberOfmissiles, self.numberOfJets, self.numberOfPilots, self.tD1, self.tD2, self.tD3, self.tD4, self.tD5, self.tD6)\n",
    "\n",
    "    def step(self, action):\n",
    "        # Return step information\n",
    "        return self.manager.step(self.state, action)\n",
    "\n",
    "    def render(self):\n",
    "        # Implement viz\n",
    "        pass\n",
    "\n",
    "    def reset(self):\n",
    "        # Reset shower temperature\n",
    "        self.state = self.manager.getState(self.numberOfmissiles, self.numberOfJets, self.numberOfPilots, self.tD1, self.tD2, self.tD3, self.tD4, self.tD5, self.tD6)\n",
    "        return self.state\n",
    "\n",
    "class TrainingScenarioEnv(Env):\n",
    "    def __init__(self):\n",
    "        manager = ScenarioManager()\n",
    "        self.manager = manager\n",
    "        # Actions we can take: 0 - Do Nothing, 1 - Launch\n",
    "        self.action_space = manager.getActionSpace()\n",
    "        # Target Damage state array: 0 - Untouched, 1 - Disabled, 2 - Destroyed\n",
    "        self.observation_space = manager.getObservationSpace()\n",
    "        # Set start state\n",
    "        self.state = manager.getRandomizedState()\n",
    "\n",
    "    def step(self, action):\n",
    "        # Return step information\n",
    "        return self.manager.step(self.state, action)\n",
    "\n",
    "    def render(self):\n",
    "        # Implement viz\n",
    "        pass\n",
    "\n",
    "    def reset(self):\n",
    "        # Reset shower temperature\n",
    "        self.state = self.manager.getRandomizedState()\n",
    "        return self.state\n"
   ]
  },
  {
   "cell_type": "markdown",
   "metadata": {},
   "source": [
    "Check Training Environment"
   ]
  },
  {
   "cell_type": "code",
   "execution_count": null,
   "metadata": {},
   "outputs": [],
   "source": [
    "trainingEnv=TrainingScenarioEnv()\n",
    "check_env(trainingEnv, warn=True)"
   ]
  },
  {
   "cell_type": "markdown",
   "metadata": {},
   "source": [
    "Check Scenario Environment"
   ]
  },
  {
   "cell_type": "code",
   "execution_count": null,
   "metadata": {},
   "outputs": [],
   "source": [
    "scenarioEnv = ScenarioEnv(13, 19, 21, 2, 1, 1, 1, 0, 0)\n",
    "check_env(scenarioEnv, warn=True)"
   ]
  },
  {
   "cell_type": "markdown",
   "metadata": {},
   "source": [
    "# Train Model"
   ]
  },
  {
   "cell_type": "code",
   "execution_count": null,
   "metadata": {},
   "outputs": [],
   "source": [
    "log_path = os.path.join('Training', 'Logs')"
   ]
  },
  {
   "cell_type": "code",
   "execution_count": null,
   "metadata": {},
   "outputs": [],
   "source": [
    "trainingEnv.reset()\n",
    "model = PPO(\"MultiInputPolicy\", scenarioEnv, verbose=1, tensorboard_log=log_path)"
   ]
  },
  {
   "cell_type": "code",
   "execution_count": null,
   "metadata": {
    "scrolled": true
   },
   "outputs": [],
   "source": [
    "# 30ish minute training\n",
    "#model.learn(total_timesteps=400000)\n",
    "\n",
    "model.learn(total_timesteps=5000000)"
   ]
  },
  {
   "cell_type": "markdown",
   "metadata": {},
   "source": [
    "# Save Model"
   ]
  },
  {
   "cell_type": "code",
   "execution_count": null,
   "metadata": {},
   "outputs": [],
   "source": [
    "model.save('Long_PPO')"
   ]
  },
  {
   "cell_type": "code",
   "execution_count": null,
   "metadata": {},
   "outputs": [],
   "source": [
    "model = PPO.load(\"Long_PPO\")"
   ]
  },
  {
   "cell_type": "markdown",
   "metadata": {},
   "source": [
    "# Evaluate Model"
   ]
  },
  {
   "cell_type": "code",
   "execution_count": null,
   "metadata": {},
   "outputs": [],
   "source": [
    "#trainingEnv.reset()\n",
    "#evaluate_policy(model, trainingEnv, n_eval_episodes=1, render=False)"
   ]
  },
  {
   "cell_type": "code",
   "execution_count": null,
   "metadata": {},
   "outputs": [],
   "source": [
    "scenarioEnv.reset()\n",
    "evaluate_policy(model, scenarioEnv, n_eval_episodes=1000, render=False)"
   ]
  },
  {
   "cell_type": "code",
   "execution_count": null,
   "metadata": {},
   "outputs": [],
   "source": [
    "scenarioEnv = ScenarioEnv(13, 19, 21, 2, 1, 1, 1, 0, 0)\n",
    "sampleEnvObs = scenarioEnv.reset()\n",
    "done = False\n",
    "score = 0 \n",
    "\n",
    "while not done:\n",
    "    action, _ = model.predict(sampleEnvObs)\n",
    "    sampleEnvObs, reward, done, info = scenarioEnv.step(action)\n",
    "    score+=reward\n",
    "    print('Score:{} Action:{} State:{}'.format(score, action, [sampleEnvObs[\"missiles\"],sampleEnvObs[\"expectedShipDamage\"], sampleEnvObs[\"currentShipDamage\"], sampleEnvObs[\"assets\"]]))\n",
    "scenarioEnv.close()"
   ]
  },
  {
   "cell_type": "code",
   "execution_count": null,
   "metadata": {},
   "outputs": [],
   "source": [
    "scenarioEnv = ScenarioEnv(13, 19, 21, 2, 1, 1, 1, 0, 0)\n",
    "sampleEnvObs = scenarioEnv.reset()\n",
    "done = False\n",
    "score = 0 \n",
    "\n",
    "sampleEnvObs, reward, done, info = scenarioEnv.step([2,2,1,1])\n",
    "score+=reward\n",
    "print('Score:{} Action:{} State:{}'.format(score, action, [sampleEnvObs[\"missiles\"],sampleEnvObs[\"expectedShipDamage\"], sampleEnvObs[\"currentShipDamage\"], sampleEnvObs[\"assets\"]]))\n",
    "scenarioEnv.close()"
   ]
  }
 ],
 "metadata": {
  "interpreter": {
   "hash": "2db524e06e9f5f4ffedc911c917cb75e12dbc923643829bf417064a77eb14d37"
  },
  "kernelspec": {
   "display_name": "Python 3.8.10 64-bit",
   "name": "python3"
  },
  "language_info": {
   "codemirror_mode": {
    "name": "ipython",
    "version": 3
   },
   "file_extension": ".py",
   "mimetype": "text/x-python",
   "name": "python",
   "nbconvert_exporter": "python",
   "pygments_lexer": "ipython3",
   "version": "3.8.10"
  }
 },
 "nbformat": 4,
 "nbformat_minor": 2
}
