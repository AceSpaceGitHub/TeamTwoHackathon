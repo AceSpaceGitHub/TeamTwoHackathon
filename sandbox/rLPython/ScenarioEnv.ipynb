{
 "cells": [
  {
   "cell_type": "code",
   "execution_count": null,
   "metadata": {},
   "outputs": [],
   "source": [
    "#https://sourceforge.net/projects/swig/files/swigwin/swigwin-4.0.2/swigwin-4.0.2.zip/download?use_mirror=ixpeering"
   ]
  },
  {
   "cell_type": "markdown",
   "metadata": {},
   "source": [
    "# 1. Import Dependencies"
   ]
  },
  {
   "cell_type": "code",
   "execution_count": null,
   "metadata": {},
   "outputs": [],
   "source": [
    "!pip install gym\n",
    "!pip install stable_baselines3[extra]"
   ]
  },
  {
   "cell_type": "code",
   "execution_count": null,
   "metadata": {},
   "outputs": [],
   "source": [
    "import gym \n",
    "from gym import Env\n",
    "from gym.spaces import Discrete, Box, Dict, Tuple, MultiBinary, MultiDiscrete \n",
    "import numpy as np\n",
    "import random\n",
    "import os\n",
    "from stable_baselines3 import PPO\n",
    "from stable_baselines3.common.vec_env import VecFrameStack\n",
    "from stable_baselines3.common.evaluation import evaluate_policy"
   ]
  },
  {
   "cell_type": "markdown",
   "metadata": {},
   "source": [
    "# 2. Types of Spaces"
   ]
  },
  {
   "cell_type": "markdown",
   "metadata": {},
   "source": [
    "# 3. Building an Environment"
   ]
  },
  {
   "cell_type": "code",
   "execution_count": null,
   "metadata": {},
   "outputs": [],
   "source": [
    "class ScenarioEnv(Env):\n",
    "    def __init__(self):\n",
    "        # Actions we can take: 0 - Do Nothing, 1 - Launch\n",
    "        self.action_space = Discrete(7)\n",
    "        # Target Damage state array: 0 - Untouched, 1 - Disabled, 2 - Destroyed\n",
    "        self.observation_space = MultiDiscrete([14, 14, 14, 14, 14, 14])\n",
    "        # self.observation_space = Box(np.array([0]), np.array([1]),dtype= np.int)\n",
    "        # Set start damage\n",
    "        self.state = 0\n",
    "        # Set number of missles\n",
    "        self.missle_count = 14\n",
    "\n",
    "    def step(self, action):\n",
    "        done = False\n",
    "\n",
    "        # Apply action\n",
    "        if action == 0:\n",
    "            reward = 0\n",
    "        elif action == 1:\n",
    "            reward = 1\n",
    "            self.state[0] = self.state[0] + 1\n",
    "            if self.state[0] > 2:\n",
    "                reward = -5\n",
    "        elif action == 2:\n",
    "            reward = 1\n",
    "            self.state[1] = self.state[1] + 1\n",
    "            if self.state[1] > 1:\n",
    "                reward = -5\n",
    "        elif action == 3:\n",
    "            reward = 1\n",
    "            self.state[2] = self.state[2] + 1\n",
    "            if self.state[2] > 1:\n",
    "                reward = -5\n",
    "        elif action == 4:\n",
    "            reward = 1\n",
    "            self.state[3] = self.state[3] + 1\n",
    "            if self.state[3] > 1:\n",
    "                reward = -5\n",
    "        elif action == 5:\n",
    "            reward = 0\n",
    "            self.state[4] = self.state[4] + 1\n",
    "        elif action == 6:\n",
    "            reward = 0\n",
    "            self.state[5] = self.state[5] + 1\n",
    "        else:\n",
    "            reward = 0\n",
    "\n",
    "        if self.state[0] == 2 and self.state[1] == 1 and self.state[2] == 1 and self.state[3] == 1:\n",
    "            reward += 100\n",
    "            done = True\n",
    "\n",
    "        # Reduce shower length by 1 second\n",
    "        self.missle_count -= 1\n",
    "\n",
    "        # Check if shower is done\n",
    "        if self.missle_count <= 0:\n",
    "            done = True\n",
    "\n",
    "        # Apply temperature noise\n",
    "        # self.state += random.randint(-1,1)\n",
    "        # Set placeholder for info\n",
    "        info = {}\n",
    "\n",
    "        # Return step information\n",
    "        return self.state, reward, done, info\n",
    "\n",
    "    def render(self):\n",
    "        # Implement viz\n",
    "        pass\n",
    "\n",
    "    def reset(self):\n",
    "        # Reset shower temperature\n",
    "        self.state = np.array([0, 0, 0, 0, 0, 0], dtype=np.int64)\n",
    "        # Reset shower time\n",
    "        self.missle_count = 10\n",
    "        return self.state\n"
   ]
  },
  {
   "cell_type": "code",
   "execution_count": null,
   "metadata": {},
   "outputs": [],
   "source": [
    "env=ScenarioEnv()"
   ]
  },
  {
   "cell_type": "code",
   "execution_count": null,
   "metadata": {},
   "outputs": [],
   "source": [
    "env.reset()"
   ]
  },
  {
   "cell_type": "code",
   "execution_count": null,
   "metadata": {},
   "outputs": [],
   "source": [
    "from stable_baselines3.common.env_checker import check_env"
   ]
  },
  {
   "cell_type": "code",
   "execution_count": null,
   "metadata": {},
   "outputs": [],
   "source": [
    "check_env(env, warn=True)"
   ]
  },
  {
   "cell_type": "markdown",
   "metadata": {},
   "source": [
    "# 4. Test Environment"
   ]
  },
  {
   "cell_type": "code",
   "execution_count": null,
   "metadata": {},
   "outputs": [],
   "source": [
    "episodes = 5\n",
    "for episode in range(1, episodes+1):\n",
    "    state = env.reset()\n",
    "    done = False\n",
    "    score = 0 \n",
    "    \n",
    "    while not done:\n",
    "        env.render()\n",
    "        action = env.action_space.sample()\n",
    "        n_state, reward, done, info = env.step(action)\n",
    "        score+=reward\n",
    "    print('Episode:{} Score:{}'.format(episode, score))\n",
    "env.close()"
   ]
  },
  {
   "cell_type": "code",
   "execution_count": null,
   "metadata": {},
   "outputs": [],
   "source": [
    "env.close()"
   ]
  },
  {
   "cell_type": "markdown",
   "metadata": {},
   "source": [
    "# 5. Train Model"
   ]
  },
  {
   "cell_type": "code",
   "execution_count": null,
   "metadata": {},
   "outputs": [],
   "source": [
    "log_path = os.path.join('Training', 'Logs')"
   ]
  },
  {
   "cell_type": "code",
   "execution_count": null,
   "metadata": {},
   "outputs": [],
   "source": [
    "model = PPO(\"MlpPolicy\", env, verbose=1, tensorboard_log=log_path)"
   ]
  },
  {
   "cell_type": "code",
   "execution_count": null,
   "metadata": {
    "scrolled": true
   },
   "outputs": [],
   "source": [
    "model.learn(total_timesteps=50000)"
   ]
  },
  {
   "cell_type": "markdown",
   "metadata": {},
   "source": [
    "# 6. Save Model"
   ]
  },
  {
   "cell_type": "code",
   "execution_count": null,
   "metadata": {},
   "outputs": [],
   "source": [
    "model.save('PPO')"
   ]
  },
  {
   "cell_type": "code",
   "execution_count": null,
   "metadata": {},
   "outputs": [],
   "source": [
    "evaluate_policy(model, env, n_eval_episodes=1000, render=False)"
   ]
  },
  {
   "cell_type": "code",
   "execution_count": null,
   "metadata": {},
   "outputs": [],
   "source": [
    "episodes = 1\n",
    "for episode in range(1, episodes+1):\n",
    "    obs = env.reset()\n",
    "    done = False\n",
    "    score = 0 \n",
    "    \n",
    "    while not done:\n",
    "        action, _ = model.predict(obs)\n",
    "        obs, reward, done, info = env.step(action)\n",
    "        score+=reward\n",
    "        print('Episode:{} Score:{} Action:{} State:{}'.format(episode, score, action, obs))\n",
    "env.close()"
   ]
  }
 ],
 "metadata": {
  "interpreter": {
   "hash": "2db524e06e9f5f4ffedc911c917cb75e12dbc923643829bf417064a77eb14d37"
  },
  "kernelspec": {
   "display_name": "Python 3.8.10 64-bit",
   "name": "python3"
  },
  "language_info": {
   "codemirror_mode": {
    "name": "ipython",
    "version": 3
   },
   "file_extension": ".py",
   "mimetype": "text/x-python",
   "name": "python",
   "nbconvert_exporter": "python",
   "pygments_lexer": "ipython3",
   "version": "3.8.10"
  }
 },
 "nbformat": 4,
 "nbformat_minor": 2
}
